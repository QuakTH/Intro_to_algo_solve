{
 "cells": [
  {
   "attachments": {},
   "cell_type": "markdown",
   "metadata": {},
   "source": [
    "# 1D array peak finding test"
   ]
  },
  {
   "cell_type": "code",
   "execution_count": 2,
   "metadata": {},
   "outputs": [],
   "source": [
    "%load_ext autoreload\n",
    "%autoreload 2"
   ]
  },
  {
   "attachments": {},
   "cell_type": "markdown",
   "metadata": {},
   "source": [
    "## Import modules"
   ]
  },
  {
   "cell_type": "code",
   "execution_count": 28,
   "metadata": {},
   "outputs": [],
   "source": [
    "import random\n",
    "\n",
    "from peak_finding import (\n",
    "    check_if_1dim_peak,\n",
    "    check_if_2dim_peak,\n",
    "    one_dim_peak_find_linear,\n",
    "    one_dim_peak_find_binary,\n",
    "    two_dim_peak_find_greedy,\n",
    "    two_dim_peak_find_divide_and_conquer\n",
    ")\n"
   ]
  },
  {
   "attachments": {},
   "cell_type": "markdown",
   "metadata": {},
   "source": [
    "## Check if algorithm is working"
   ]
  },
  {
   "attachments": {},
   "cell_type": "markdown",
   "metadata": {},
   "source": [
    "### Linear peak finding"
   ]
  },
  {
   "cell_type": "code",
   "execution_count": 14,
   "metadata": {},
   "outputs": [
    {
     "name": "stdout",
     "output_type": "stream",
     "text": [
      "Peak found in array length : 10\n",
      "Peak found in array length : 100\n",
      "Peak found in array length : 1000\n",
      "Peak found in array length : 10000\n"
     ]
    }
   ],
   "source": [
    "for array_len in (10, 100, 1000, 10000):\n",
    "    array = [random.randint(0, 1000) for _ in range(array_len)]\n",
    "    peak_index = one_dim_peak_find_linear(array)\n",
    "\n",
    "    if check_if_1dim_peak(array, peak_index):\n",
    "        print(f\"Peak found in array length : {array_len}\")\n",
    "    else:\n",
    "        print(f\"Peak not found in array length : {array_len}\")\n"
   ]
  },
  {
   "attachments": {},
   "cell_type": "markdown",
   "metadata": {},
   "source": [
    "### Binary peak finding"
   ]
  },
  {
   "cell_type": "code",
   "execution_count": 16,
   "metadata": {},
   "outputs": [
    {
     "name": "stdout",
     "output_type": "stream",
     "text": [
      "Peak found in array length : 10\n",
      "Peak found in array length : 100\n",
      "Peak found in array length : 1000\n",
      "Peak found in array length : 10000\n"
     ]
    }
   ],
   "source": [
    "for array_len in (10, 100, 1000, 10000):\n",
    "    array = [random.randint(0, 1000) for _ in range(array_len)]\n",
    "    peak_index = one_dim_peak_find_binary(array, 0, array_len - 1)\n",
    "\n",
    "    if check_if_1dim_peak(array, peak_index):\n",
    "        print(f\"Peak found in array length : {array_len}\")\n",
    "    else:\n",
    "        print(f\"Peak not found in array length : {array_len}\")\n"
   ]
  },
  {
   "attachments": {},
   "cell_type": "markdown",
   "metadata": {},
   "source": [
    "## Compare time on large array"
   ]
  },
  {
   "cell_type": "code",
   "execution_count": 17,
   "metadata": {},
   "outputs": [
    {
     "name": "stdout",
     "output_type": "stream",
     "text": [
      "3.7 s ± 26.3 ms per loop (mean ± std. dev. of 10 runs, 1 loop each)\n"
     ]
    }
   ],
   "source": [
    "%%timeit -r 10 -n 1\n",
    "\n",
    "array = [random.randint(0,1000) for _ in range(int(1e7))]\n",
    "peak_index = one_dim_peak_find_linear(array)\n",
    "assert check_if_1dim_peak(array, peak_index)"
   ]
  },
  {
   "cell_type": "code",
   "execution_count": 18,
   "metadata": {},
   "outputs": [
    {
     "name": "stdout",
     "output_type": "stream",
     "text": [
      "3.73 s ± 53.7 ms per loop (mean ± std. dev. of 10 runs, 1 loop each)\n"
     ]
    }
   ],
   "source": [
    "%%timeit -r 10 -n 1\n",
    "\n",
    "array = [random.randint(0,1000) for _ in range(int(1e7))]\n",
    "peak_index = one_dim_peak_find_binary(array, 0, len(array) - 1)\n",
    "assert check_if_1dim_peak(array, peak_index)"
   ]
  },
  {
   "attachments": {},
   "cell_type": "markdown",
   "metadata": {},
   "source": [
    "## Compare time on worst case"
   ]
  },
  {
   "cell_type": "code",
   "execution_count": 21,
   "metadata": {},
   "outputs": [
    {
     "name": "stdout",
     "output_type": "stream",
     "text": [
      "1.09 s ± 0 ns per loop (mean ± std. dev. of 1 run, 1 loop each)\n"
     ]
    }
   ],
   "source": [
    "%%timeit -r 1 -n 1\n",
    "\n",
    "array = list(range(int(1e7)))\n",
    "peak_index = one_dim_peak_find_linear(array)\n",
    "assert check_if_1dim_peak(array, peak_index)"
   ]
  },
  {
   "cell_type": "code",
   "execution_count": 23,
   "metadata": {},
   "outputs": [
    {
     "name": "stdout",
     "output_type": "stream",
     "text": [
      "81.3 ms ± 0 ns per loop (mean ± std. dev. of 1 run, 1 loop each)\n"
     ]
    }
   ],
   "source": [
    "%%timeit -r 1 -n 1\n",
    "\n",
    "array = list(range(int(1e7)))\n",
    "peak_index = one_dim_peak_find_binary(array, 0, len(array) - 1)\n",
    "assert check_if_1dim_peak(array, peak_index)\n"
   ]
  },
  {
   "attachments": {},
   "cell_type": "markdown",
   "metadata": {},
   "source": [
    "# 2D matrix peak finding"
   ]
  },
  {
   "attachments": {},
   "cell_type": "markdown",
   "metadata": {},
   "source": [
    "## Greedy ascent peak finding"
   ]
  },
  {
   "cell_type": "code",
   "execution_count": 27,
   "metadata": {},
   "outputs": [],
   "source": [
    "for row_count in (3, 4, 5):\n",
    "    for col_count in (5, 6, 7):\n",
    "        matrix = [\n",
    "            [random.randint(1, 50) for _ in range(col_count)] for _ in range(row_count)\n",
    "        ]\n",
    "\n",
    "        peak_row, peak_col = two_dim_peak_find_greedy(matrix, 0, 0)\n",
    "\n",
    "        assert check_if_2dim_peak(\n",
    "            matrix, peak_row, peak_col\n",
    "        ), \"Found index is not a peak\"\n"
   ]
  },
  {
   "attachments": {},
   "cell_type": "markdown",
   "metadata": {},
   "source": [
    "## Divide and conquer peak finding"
   ]
  },
  {
   "cell_type": "code",
   "execution_count": 29,
   "metadata": {},
   "outputs": [],
   "source": [
    "for row_count in (3, 4, 5):\n",
    "    for col_count in (5, 6, 7):\n",
    "        matrix = [\n",
    "            [random.randint(1, 50) for _ in range(col_count)] for _ in range(row_count)\n",
    "        ]\n",
    "\n",
    "        peak_row, peak_col = two_dim_peak_find_divide_and_conquer(\n",
    "            matrix, 0, row_count - 1\n",
    "        )\n",
    "\n",
    "        assert check_if_2dim_peak(\n",
    "            matrix, peak_row, peak_col\n",
    "        ), \"Found index is not a peak\"\n"
   ]
  },
  {
   "attachments": {},
   "cell_type": "markdown",
   "metadata": {},
   "source": [
    "## Compare time on large matrix"
   ]
  },
  {
   "cell_type": "code",
   "execution_count": 40,
   "metadata": {},
   "outputs": [
    {
     "name": "stdout",
     "output_type": "stream",
     "text": [
      "36.9 s ± 221 ms per loop (mean ± std. dev. of 10 runs, 1 loop each)\n"
     ]
    }
   ],
   "source": [
    "%%timeit -r 10 -n 1\n",
    "\n",
    "matrix = [[random.randint(0,1000) for _ in range(int(1e4))] for _ in range(int(1e4))]\n",
    "row_idx, col_idx = two_dim_peak_find_greedy(matrix, int(5e3), int(5e3))\n",
    "assert check_if_2dim_peak(matrix, row_idx, col_idx)"
   ]
  },
  {
   "cell_type": "code",
   "execution_count": 42,
   "metadata": {},
   "outputs": [
    {
     "name": "stdout",
     "output_type": "stream",
     "text": [
      "36.8 s ± 192 ms per loop (mean ± std. dev. of 10 runs, 1 loop each)\n"
     ]
    }
   ],
   "source": [
    "%%timeit -r 10 -n 1\n",
    "\n",
    "matrix = [[random.randint(0,1000) for _ in range(int(1e4))] for _ in range(int(1e4))]\n",
    "row_idx, col_idx = two_dim_peak_find_divide_and_conquer(matrix, 0, len(matrix)-1)\n",
    "assert check_if_2dim_peak(matrix, row_idx, col_idx)"
   ]
  }
 ],
 "metadata": {
  "kernelspec": {
   "display_name": "dev",
   "language": "python",
   "name": "python3"
  },
  "language_info": {
   "codemirror_mode": {
    "name": "ipython",
    "version": 3
   },
   "file_extension": ".py",
   "mimetype": "text/x-python",
   "name": "python",
   "nbconvert_exporter": "python",
   "pygments_lexer": "ipython3",
   "version": "3.10.10"
  },
  "orig_nbformat": 4
 },
 "nbformat": 4,
 "nbformat_minor": 2
}
