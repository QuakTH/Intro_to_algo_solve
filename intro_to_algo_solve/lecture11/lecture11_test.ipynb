{
 "cells": [
  {
   "attachments": {},
   "cell_type": "markdown",
   "metadata": {},
   "source": [
    "# Karatsuba’s Method when calculating large numbers"
   ]
  },
  {
   "cell_type": "code",
   "execution_count": 1,
   "metadata": {},
   "outputs": [],
   "source": [
    "%load_ext autoreload\n",
    "%autoreload 2"
   ]
  },
  {
   "attachments": {},
   "cell_type": "markdown",
   "metadata": {},
   "source": [
    "## Import modules"
   ]
  },
  {
   "cell_type": "code",
   "execution_count": 57,
   "metadata": {},
   "outputs": [],
   "source": [
    "import random\n",
    "\n",
    "from intro_to_algo_solve.lecture11 import karatsuba_method as km"
   ]
  },
  {
   "attachments": {},
   "cell_type": "markdown",
   "metadata": {},
   "source": [
    "## Random number generator"
   ]
  },
  {
   "cell_type": "code",
   "execution_count": 60,
   "metadata": {},
   "outputs": [],
   "source": [
    "def random_num_gen(digits: int) -> int:\n",
    "    \"\"\"Generate random number with number of digits that follows `digits`.\n",
    "\n",
    "    :param digits: How many digit a number have.\n",
    "    :return: Integer number with number of `digits` digits.\n",
    "    \"\"\"\n",
    "    power = 1\n",
    "    num = 0\n",
    "\n",
    "    while digits>=0:\n",
    "        num += power * random.randint(0, 9)\n",
    "        power *= 10\n",
    "        digits -= 1\n",
    "\n",
    "    return num"
   ]
  },
  {
   "attachments": {},
   "cell_type": "markdown",
   "metadata": {},
   "source": [
    "## Test function with random_num_gen"
   ]
  },
  {
   "cell_type": "code",
   "execution_count": 70,
   "metadata": {},
   "outputs": [],
   "source": [
    "for digits in (10, 20, 30, 40, 50):\n",
    "    num1 = random_num_gen(digits)\n",
    "    num2 = random_num_gen(digits)\n",
    "    assert km.multiply_two_numbers(num1, num2) == num1 * num2"
   ]
  }
 ],
 "metadata": {
  "kernelspec": {
   "display_name": ".venv",
   "language": "python",
   "name": "python3"
  },
  "language_info": {
   "codemirror_mode": {
    "name": "ipython",
    "version": 3
   },
   "file_extension": ".py",
   "mimetype": "text/x-python",
   "name": "python",
   "nbconvert_exporter": "python",
   "pygments_lexer": "ipython3",
   "version": "3.10.10"
  },
  "orig_nbformat": 4
 },
 "nbformat": 4,
 "nbformat_minor": 2
}
