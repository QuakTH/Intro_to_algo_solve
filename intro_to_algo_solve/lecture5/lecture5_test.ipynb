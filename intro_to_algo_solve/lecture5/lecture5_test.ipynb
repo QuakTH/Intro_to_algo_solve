{
 "cells": [
  {
   "attachments": {},
   "cell_type": "markdown",
   "metadata": {},
   "source": [
    "# Binary Search Tree"
   ]
  },
  {
   "cell_type": "code",
   "execution_count": 42,
   "metadata": {},
   "outputs": [
    {
     "name": "stdout",
     "output_type": "stream",
     "text": [
      "The autoreload extension is already loaded. To reload it, use:\n",
      "  %reload_ext autoreload\n"
     ]
    }
   ],
   "source": [
    "%load_ext autoreload\n",
    "%autoreload 2"
   ]
  },
  {
   "attachments": {},
   "cell_type": "markdown",
   "metadata": {},
   "source": [
    "# Import modules"
   ]
  },
  {
   "cell_type": "code",
   "execution_count": 169,
   "metadata": {},
   "outputs": [],
   "source": [
    "import bst\n"
   ]
  },
  {
   "attachments": {},
   "cell_type": "markdown",
   "metadata": {},
   "source": [
    "# Create a Binary Search Tree"
   ]
  },
  {
   "cell_type": "code",
   "execution_count": 170,
   "metadata": {},
   "outputs": [
    {
     "data": {
      "text/plain": [
       "<bst.Node at 0x10d391f60>"
      ]
     },
     "execution_count": 170,
     "metadata": {},
     "output_type": "execute_result"
    }
   ],
   "source": [
    "tree = bst.BST()\n",
    "\n",
    "tree.insert(10)\n",
    "tree.insert(8)\n",
    "tree.insert(2)\n",
    "tree.insert(9)\n",
    "tree.insert(55)\n",
    "tree.insert(33)\n",
    "tree.insert(60)\n",
    "tree.insert(1)\n"
   ]
  },
  {
   "attachments": {},
   "cell_type": "markdown",
   "metadata": {},
   "source": [
    "# Print the Binary Search Tree"
   ]
  },
  {
   "cell_type": "code",
   "execution_count": 171,
   "metadata": {},
   "outputs": [
    {
     "name": "stdout",
     "output_type": "stream",
     "text": [
      "       10       \n",
      "   8        55  \n",
      "  2    9  33  60\n",
      "1               \n"
     ]
    }
   ],
   "source": [
    "print(tree)\n"
   ]
  },
  {
   "attachments": {},
   "cell_type": "markdown",
   "metadata": {},
   "source": [
    "# Check representation invariant of BST"
   ]
  },
  {
   "cell_type": "code",
   "execution_count": 172,
   "metadata": {},
   "outputs": [],
   "source": [
    "tree.check_ri()\n"
   ]
  },
  {
   "attachments": {},
   "cell_type": "markdown",
   "metadata": {},
   "source": [
    "# Test find"
   ]
  },
  {
   "cell_type": "code",
   "execution_count": 173,
   "metadata": {},
   "outputs": [],
   "source": [
    "tree.find(20)\n"
   ]
  },
  {
   "cell_type": "code",
   "execution_count": 174,
   "metadata": {},
   "outputs": [
    {
     "data": {
      "text/plain": [
       "<bst.Node at 0x10d501ff0>"
      ]
     },
     "execution_count": 174,
     "metadata": {},
     "output_type": "execute_result"
    }
   ],
   "source": [
    "tree.find(10)\n"
   ]
  },
  {
   "attachments": {},
   "cell_type": "markdown",
   "metadata": {},
   "source": [
    "# Test finding minimum and maximum value"
   ]
  },
  {
   "cell_type": "code",
   "execution_count": 175,
   "metadata": {},
   "outputs": [
    {
     "data": {
      "text/plain": [
       "1"
      ]
     },
     "execution_count": 175,
     "metadata": {},
     "output_type": "execute_result"
    }
   ],
   "source": [
    "tree.find_min().key\n"
   ]
  },
  {
   "cell_type": "code",
   "execution_count": 176,
   "metadata": {},
   "outputs": [
    {
     "data": {
      "text/plain": [
       "60"
      ]
     },
     "execution_count": 176,
     "metadata": {},
     "output_type": "execute_result"
    }
   ],
   "source": [
    "tree.find_max().key\n"
   ]
  },
  {
   "attachments": {},
   "cell_type": "markdown",
   "metadata": {},
   "source": [
    "# Test insert"
   ]
  },
  {
   "cell_type": "code",
   "execution_count": 177,
   "metadata": {},
   "outputs": [
    {
     "name": "stdout",
     "output_type": "stream",
     "text": [
      "               10               \n",
      "   8                55          \n",
      "  2    9    33          60      \n",
      "1             44          70    \n",
      "                            89  \n",
      "                              90\n"
     ]
    }
   ],
   "source": [
    "tree.insert(70)\n",
    "tree.insert(89)\n",
    "tree.insert(44)\n",
    "tree.insert(10)\n",
    "tree.insert(90)\n",
    "\n",
    "print(tree)\n"
   ]
  },
  {
   "cell_type": "code",
   "execution_count": 178,
   "metadata": {},
   "outputs": [],
   "source": [
    "tree.check_ri()\n"
   ]
  },
  {
   "attachments": {},
   "cell_type": "markdown",
   "metadata": {},
   "source": [
    "# Test delete"
   ]
  },
  {
   "attachments": {},
   "cell_type": "markdown",
   "metadata": {},
   "source": [
    "## Delete the leaf node"
   ]
  },
  {
   "cell_type": "code",
   "execution_count": 179,
   "metadata": {},
   "outputs": [
    {
     "name": "stdout",
     "output_type": "stream",
     "text": [
      "before :  90\n",
      "after :  No node found\n"
     ]
    }
   ],
   "source": [
    "print(\"before : \", tree.find(90).key)\n",
    "tree.find(90).delete()\n",
    "print(\"after : \", tree.find(90).key if tree.find(90) else \"No node found\")\n",
    "tree.check_ri()"
   ]
  },
  {
   "cell_type": "code",
   "execution_count": 180,
   "metadata": {},
   "outputs": [
    {
     "name": "stdout",
     "output_type": "stream",
     "text": [
      "             10             \n",
      "   8              55        \n",
      "  2    9    33        60    \n",
      "1             44        70  \n",
      "                          89\n"
     ]
    }
   ],
   "source": [
    "print(tree)\n"
   ]
  },
  {
   "attachments": {},
   "cell_type": "markdown",
   "metadata": {},
   "source": [
    "## Delete the node with one child"
   ]
  },
  {
   "attachments": {},
   "cell_type": "markdown",
   "metadata": {},
   "source": [
    "### Only left child"
   ]
  },
  {
   "cell_type": "code",
   "execution_count": 181,
   "metadata": {},
   "outputs": [
    {
     "name": "stdout",
     "output_type": "stream",
     "text": [
      "before :  2\n",
      "after :  No node found\n"
     ]
    }
   ],
   "source": [
    "print(\"before : \", tree.find(2).key)\n",
    "tree.find(2).delete()\n",
    "print(\"after : \", tree.find(2).key if tree.find(2) else \"No node found\")\n",
    "tree.check_ri()"
   ]
  },
  {
   "cell_type": "code",
   "execution_count": 182,
   "metadata": {},
   "outputs": [
    {
     "name": "stdout",
     "output_type": "stream",
     "text": [
      "           10           \n",
      " 8            55        \n",
      "1  9    33        60    \n",
      "          44        70  \n",
      "                      89\n"
     ]
    }
   ],
   "source": [
    "print(tree)\n"
   ]
  },
  {
   "attachments": {},
   "cell_type": "markdown",
   "metadata": {},
   "source": [
    "### Only right child"
   ]
  },
  {
   "cell_type": "code",
   "execution_count": 183,
   "metadata": {},
   "outputs": [
    {
     "name": "stdout",
     "output_type": "stream",
     "text": [
      "before :  60\n",
      "after :  No node found\n"
     ]
    }
   ],
   "source": [
    "print(\"before : \", tree.find(60).key)\n",
    "tree.find(60).delete()\n",
    "print(\"after : \", tree.find(60).key if tree.find(60) else \"No node found\")\n",
    "tree.check_ri()"
   ]
  },
  {
   "cell_type": "code",
   "execution_count": 184,
   "metadata": {},
   "outputs": [
    {
     "name": "stdout",
     "output_type": "stream",
     "text": [
      "         10         \n",
      " 8          55      \n",
      "1  9    33      70  \n",
      "          44      89\n"
     ]
    }
   ],
   "source": [
    "print(tree)\n"
   ]
  },
  {
   "attachments": {},
   "cell_type": "markdown",
   "metadata": {},
   "source": [
    "# Delete the node with two childs"
   ]
  },
  {
   "cell_type": "code",
   "execution_count": 185,
   "metadata": {},
   "outputs": [
    {
     "name": "stdout",
     "output_type": "stream",
     "text": [
      "before :  55\n",
      "after :  No node found\n"
     ]
    }
   ],
   "source": [
    "print(\"before : \", tree.find(55).key)\n",
    "tree.find(55).delete()\n",
    "print(\"after : \", tree.find(60).key if tree.find(55) else \"No node found\")\n",
    "tree.check_ri()"
   ]
  },
  {
   "cell_type": "code",
   "execution_count": 186,
   "metadata": {},
   "outputs": [
    {
     "name": "stdout",
     "output_type": "stream",
     "text": [
      "       10       \n",
      " 8        70    \n",
      "1  9    33    89\n",
      "          44    \n"
     ]
    }
   ],
   "source": [
    "print(tree)\n"
   ]
  },
  {
   "cell_type": "code",
   "execution_count": 187,
   "metadata": {},
   "outputs": [
    {
     "name": "stdout",
     "output_type": "stream",
     "text": [
      "before :  70\n",
      "after :  No node found\n"
     ]
    }
   ],
   "source": [
    "print(\"before : \", tree.find(70).key)\n",
    "tree.find(70).delete()\n",
    "print(\"after : \", tree.find(70).key if tree.find(55) else \"No node found\")\n",
    "tree.check_ri()"
   ]
  },
  {
   "cell_type": "code",
   "execution_count": 188,
   "metadata": {},
   "outputs": [
    {
     "name": "stdout",
     "output_type": "stream",
     "text": [
      "       10       \n",
      " 8        89    \n",
      "1  9    33      \n",
      "          44    \n"
     ]
    }
   ],
   "source": [
    "print(tree)\n"
   ]
  },
  {
   "cell_type": "code",
   "execution_count": 189,
   "metadata": {},
   "outputs": [
    {
     "name": "stdout",
     "output_type": "stream",
     "text": [
      "before :  8\n",
      "after :  No node found\n"
     ]
    }
   ],
   "source": [
    "print(\"before : \", tree.find(8).key)\n",
    "tree.find(8).delete()\n",
    "print(\"after : \", tree.find(8).key if tree.find(55) else \"No node found\")\n",
    "tree.check_ri()"
   ]
  },
  {
   "cell_type": "code",
   "execution_count": 190,
   "metadata": {},
   "outputs": [
    {
     "name": "stdout",
     "output_type": "stream",
     "text": [
      "        10       \n",
      "  9        89    \n",
      "1        33      \n",
      "           44    \n"
     ]
    }
   ],
   "source": [
    "print(tree)\n"
   ]
  },
  {
   "attachments": {},
   "cell_type": "markdown",
   "metadata": {},
   "source": [
    "# Delete the root node"
   ]
  },
  {
   "cell_type": "code",
   "execution_count": 191,
   "metadata": {},
   "outputs": [
    {
     "name": "stdout",
     "output_type": "stream",
     "text": [
      "before :  10\n",
      "after :  No node found\n"
     ]
    }
   ],
   "source": [
    "print(\"before : \", tree.find(10).key)\n",
    "tree.find(10).delete()\n",
    "print(\"after : \", tree.find(10).key if tree.find(55) else \"No node found\")\n",
    "tree.check_ri()\n"
   ]
  },
  {
   "cell_type": "code",
   "execution_count": 192,
   "metadata": {},
   "outputs": [
    {
     "name": "stdout",
     "output_type": "stream",
     "text": [
      "      33     \n",
      "  9      89  \n",
      "1      44    \n"
     ]
    }
   ],
   "source": [
    "print(tree)\n"
   ]
  },
  {
   "cell_type": "code",
   "execution_count": 193,
   "metadata": {},
   "outputs": [
    {
     "data": {
      "text/plain": [
       "(1, 89)"
      ]
     },
     "execution_count": 193,
     "metadata": {},
     "output_type": "execute_result"
    }
   ],
   "source": [
    "tree.find_min().key, tree.find_max().key\n"
   ]
  },
  {
   "attachments": {},
   "cell_type": "markdown",
   "metadata": {},
   "source": [
    "# Delete Everything until the tree is empty"
   ]
  },
  {
   "cell_type": "code",
   "execution_count": 194,
   "metadata": {},
   "outputs": [
    {
     "name": "stdout",
     "output_type": "stream",
     "text": [
      "Empty Tree\n"
     ]
    }
   ],
   "source": [
    "tree.find(33).delete()\n",
    "tree.find(44).delete()\n",
    "tree.find(89).delete()\n",
    "tree.find(9).delete()\n",
    "tree.find(1).delete()\n",
    "\n",
    "print(tree)"
   ]
  }
 ],
 "metadata": {
  "kernelspec": {
   "display_name": "dev",
   "language": "python",
   "name": "python3"
  },
  "language_info": {
   "codemirror_mode": {
    "name": "ipython",
    "version": 3
   },
   "file_extension": ".py",
   "mimetype": "text/x-python",
   "name": "python",
   "nbconvert_exporter": "python",
   "pygments_lexer": "ipython3",
   "version": "3.10.10"
  },
  "orig_nbformat": 4
 },
 "nbformat": 4,
 "nbformat_minor": 2
}
