{
 "cells": [
  {
   "attachments": {},
   "cell_type": "markdown",
   "metadata": {},
   "source": [
    "# Hash table (with linked list)"
   ]
  },
  {
   "cell_type": "code",
   "execution_count": 1,
   "metadata": {},
   "outputs": [],
   "source": [
    "%load_ext autoreload\n",
    "%autoreload 2"
   ]
  },
  {
   "attachments": {},
   "cell_type": "markdown",
   "metadata": {},
   "source": [
    "## Import modules"
   ]
  },
  {
   "cell_type": "code",
   "execution_count": 31,
   "metadata": {},
   "outputs": [],
   "source": [
    "import string\n",
    "\n",
    "from intro_to_algo_solve.lecture8 import hash_table, prime_generator"
   ]
  },
  {
   "attachments": {},
   "cell_type": "markdown",
   "metadata": {},
   "source": [
    "## Test prime_generator"
   ]
  },
  {
   "cell_type": "code",
   "execution_count": 25,
   "metadata": {},
   "outputs": [
    {
     "data": {
      "text/plain": [
       "False"
      ]
     },
     "execution_count": 25,
     "metadata": {},
     "output_type": "execute_result"
    }
   ],
   "source": [
    "prime_generator.is_prime(111)"
   ]
  },
  {
   "cell_type": "code",
   "execution_count": 26,
   "metadata": {},
   "outputs": [
    {
     "data": {
      "text/plain": [
       "True"
      ]
     },
     "execution_count": 26,
     "metadata": {},
     "output_type": "execute_result"
    }
   ],
   "source": [
    "prime_generator.is_prime(11)"
   ]
  },
  {
   "cell_type": "code",
   "execution_count": 28,
   "metadata": {},
   "outputs": [
    {
     "data": {
      "text/plain": [
       "(True, True)"
      ]
     },
     "execution_count": 28,
     "metadata": {},
     "output_type": "execute_result"
    }
   ],
   "source": [
    "prime_generator.is_prime_brute(101111), prime_generator.rabin_miller_test(101111)"
   ]
  },
  {
   "cell_type": "code",
   "execution_count": 24,
   "metadata": {},
   "outputs": [
    {
     "data": {
      "text/plain": [
       "115752750893381438846486286376763403241679054416434247444570535095492003307872300807587065344080467880714730628943340060105698230628804703170146162031918339922487323603575244743328771736826198633805668816492540436456287447367635365002637710512200807250064036107474959262775233849228749741451343666554028982677"
      ]
     },
     "execution_count": 24,
     "metadata": {},
     "output_type": "execute_result"
    }
   ],
   "source": [
    "prime_generator.generate_large_prime()"
   ]
  },
  {
   "attachments": {},
   "cell_type": "markdown",
   "metadata": {},
   "source": [
    "## Hash Table"
   ]
  },
  {
   "attachments": {},
   "cell_type": "markdown",
   "metadata": {},
   "source": [
    "### Create a Hash Table instance"
   ]
  },
  {
   "cell_type": "code",
   "execution_count": 46,
   "metadata": {},
   "outputs": [],
   "source": [
    "ht = hash_table.HashTable(8)"
   ]
  },
  {
   "attachments": {},
   "cell_type": "markdown",
   "metadata": {},
   "source": [
    "### Insert multiple values"
   ]
  },
  {
   "cell_type": "code",
   "execution_count": 47,
   "metadata": {},
   "outputs": [],
   "source": [
    "for alphabet in string.ascii_uppercase + string.ascii_lowercase:\n",
    "    ht.insert(alphabet)"
   ]
  },
  {
   "cell_type": "code",
   "execution_count": 49,
   "metadata": {},
   "outputs": [
    {
     "name": "stdout",
     "output_type": "stream",
     "text": [
      "[0] -> (4411934944, F) - (4411935376, G) - (4411935232, Q) - (4411933456, a) - (4411933168, d) - (4411938496, q)\n",
      "[1] -> (4411932736, e) - (4411933024, h) - (4411936288, j) - (4411936576, m) - (4411939552, t) - (4411945168, v) - (4411945024, z)\n",
      "[2] -> (4411939408, K) - (4411935712, M) - (4411935856, R) - (4411933936, V) - (4411933648, Y)\n",
      "[3] -> (4411933360, b) - (4411932928, g) - (4411936480, l) - (4411936768, o) - (4411938400, p) - (4411938688, s)\n",
      "[4] -> (4411936048, B) - (4411937824, D) - (4411938112, H) - (4411934128, T) - (4411936192, i) - (4411948624, w) - (4411948480, y)\n",
      "[5] -> (4411938880, J) - (4411935616, N) - (4411935328, P) - (4411937392, S) - (4411933840, W) - (4411933552, Z) - (4411938592, r)\n",
      "[6] -> (4411935040, L) - (4411933264, c) - (4411932832, f) - (4411936384, k) - (4411936672, n) - (4411948528, x)\n",
      "[7] -> (4411939360, A) - (4411935808, C) - (4411937872, E) - (4411939072, I) - (4411935520, O) - (4411934032, U) - (4411933744, X) - (4411939648, u)\n"
     ]
    }
   ],
   "source": [
    "ht.print_hash_table()"
   ]
  },
  {
   "attachments": {},
   "cell_type": "markdown",
   "metadata": {},
   "source": [
    "### Test find"
   ]
  },
  {
   "cell_type": "code",
   "execution_count": 54,
   "metadata": {},
   "outputs": [
    {
     "data": {
      "text/plain": [
       "'R'"
      ]
     },
     "execution_count": 54,
     "metadata": {},
     "output_type": "execute_result"
    }
   ],
   "source": [
    "ht.find(4411935856).value"
   ]
  },
  {
   "cell_type": "code",
   "execution_count": 55,
   "metadata": {},
   "outputs": [],
   "source": [
    "ht.find(3333)"
   ]
  },
  {
   "attachments": {},
   "cell_type": "markdown",
   "metadata": {},
   "source": [
    "### Test Delete"
   ]
  },
  {
   "cell_type": "code",
   "execution_count": 56,
   "metadata": {},
   "outputs": [
    {
     "name": "stdout",
     "output_type": "stream",
     "text": [
      "[0] -> (4411934944, F) - (4411935376, G) - (4411935232, Q) - (4411933456, a) - (4411933168, d) - (4411938496, q)\n",
      "[1] -> (4411932736, e) - (4411933024, h) - (4411936288, j) - (4411936576, m) - (4411939552, t) - (4411945168, v) - (4411945024, z)\n",
      "[2] -> (4411939408, K) - (4411935712, M) - (4411935856, R) - (4411933936, V) - (4411933648, Y)\n",
      "[3] -> (4411933360, b) - (4411932928, g) - (4411936480, l) - (4411936768, o) - (4411938400, p) - (4411938688, s)\n",
      "[4] -> (4411936048, B) - (4411937824, D) - (4411938112, H) - (4411934128, T) - (4411936192, i) - (4411948624, w) - (4411948480, y)\n",
      "[5] -> (4411938880, J) - (4411935616, N) - (4411935328, P) - (4411937392, S) - (4411933840, W) - (4411933552, Z) - (4411938592, r)\n",
      "[6] -> (4411935040, L) - (4411933264, c) - (4411932832, f) - (4411936384, k) - (4411936672, n) - (4411948528, x)\n",
      "[7] -> (4411939360, A) - (4411935808, C) - (4411937872, E) - (4411939072, I) - (4411935520, O) - (4411934032, U) - (4411933744, X) - (4411939648, u)\n"
     ]
    }
   ],
   "source": [
    "ht.print_hash_table()"
   ]
  },
  {
   "cell_type": "code",
   "execution_count": 57,
   "metadata": {},
   "outputs": [
    {
     "data": {
      "text/plain": [
       "<intro_to_algo_solve.lecture8.hash_table.Node at 0x106f8c4f0>"
      ]
     },
     "execution_count": 57,
     "metadata": {},
     "output_type": "execute_result"
    }
   ],
   "source": [
    "ht.delete(4411933936)"
   ]
  },
  {
   "cell_type": "code",
   "execution_count": 58,
   "metadata": {},
   "outputs": [
    {
     "name": "stdout",
     "output_type": "stream",
     "text": [
      "[0] -> (4411934944, F) - (4411935376, G) - (4411935232, Q) - (4411933456, a) - (4411933168, d) - (4411938496, q)\n",
      "[1] -> (4411932736, e) - (4411933024, h) - (4411936288, j) - (4411936576, m) - (4411939552, t) - (4411945168, v) - (4411945024, z)\n",
      "[2] -> (4411939408, K) - (4411935712, M) - (4411935856, R) - (4411933648, Y)\n",
      "[3] -> (4411933360, b) - (4411932928, g) - (4411936480, l) - (4411936768, o) - (4411938400, p) - (4411938688, s)\n",
      "[4] -> (4411936048, B) - (4411937824, D) - (4411938112, H) - (4411934128, T) - (4411936192, i) - (4411948624, w) - (4411948480, y)\n",
      "[5] -> (4411938880, J) - (4411935616, N) - (4411935328, P) - (4411937392, S) - (4411933840, W) - (4411933552, Z) - (4411938592, r)\n",
      "[6] -> (4411935040, L) - (4411933264, c) - (4411932832, f) - (4411936384, k) - (4411936672, n) - (4411948528, x)\n",
      "[7] -> (4411939360, A) - (4411935808, C) - (4411937872, E) - (4411939072, I) - (4411935520, O) - (4411934032, U) - (4411933744, X) - (4411939648, u)\n"
     ]
    }
   ],
   "source": [
    "ht.print_hash_table()"
   ]
  },
  {
   "cell_type": "code",
   "execution_count": 59,
   "metadata": {},
   "outputs": [],
   "source": [
    "ht.delete(33333)"
   ]
  },
  {
   "cell_type": "code",
   "execution_count": 60,
   "metadata": {},
   "outputs": [
    {
     "data": {
      "text/plain": [
       "<intro_to_algo_solve.lecture8.hash_table.Node at 0x106f8cbe0>"
      ]
     },
     "execution_count": 60,
     "metadata": {},
     "output_type": "execute_result"
    }
   ],
   "source": [
    "ht.delete(4411935856)\n",
    "ht.delete(4411933648)\n",
    "ht.delete(4411939408)\n",
    "ht.delete(4411935712)"
   ]
  },
  {
   "cell_type": "code",
   "execution_count": 61,
   "metadata": {},
   "outputs": [
    {
     "name": "stdout",
     "output_type": "stream",
     "text": [
      "[0] -> (4411934944, F) - (4411935376, G) - (4411935232, Q) - (4411933456, a) - (4411933168, d) - (4411938496, q)\n",
      "[1] -> (4411932736, e) - (4411933024, h) - (4411936288, j) - (4411936576, m) - (4411939552, t) - (4411945168, v) - (4411945024, z)\n",
      "[2] -> Empty\n",
      "[3] -> (4411933360, b) - (4411932928, g) - (4411936480, l) - (4411936768, o) - (4411938400, p) - (4411938688, s)\n",
      "[4] -> (4411936048, B) - (4411937824, D) - (4411938112, H) - (4411934128, T) - (4411936192, i) - (4411948624, w) - (4411948480, y)\n",
      "[5] -> (4411938880, J) - (4411935616, N) - (4411935328, P) - (4411937392, S) - (4411933840, W) - (4411933552, Z) - (4411938592, r)\n",
      "[6] -> (4411935040, L) - (4411933264, c) - (4411932832, f) - (4411936384, k) - (4411936672, n) - (4411948528, x)\n",
      "[7] -> (4411939360, A) - (4411935808, C) - (4411937872, E) - (4411939072, I) - (4411935520, O) - (4411934032, U) - (4411933744, X) - (4411939648, u)\n"
     ]
    }
   ],
   "source": [
    "ht.print_hash_table()"
   ]
  },
  {
   "cell_type": "code",
   "execution_count": 62,
   "metadata": {},
   "outputs": [
    {
     "name": "stdout",
     "output_type": "stream",
     "text": [
      "[0] -> (4411935376, G) - (4411935232, Q) - (4411933456, a) - (4411933168, d) - (4411938496, q)\n",
      "[1] -> (4411932736, e) - (4411933024, h) - (4411936288, j) - (4411936576, m) - (4411939552, t) - (4411945168, v) - (4411945024, z)\n",
      "[2] -> Empty\n",
      "[3] -> (4411933360, b) - (4411932928, g) - (4411936480, l) - (4411936768, o) - (4411938400, p) - (4411938688, s)\n",
      "[4] -> (4411936048, B) - (4411937824, D) - (4411938112, H) - (4411934128, T) - (4411936192, i) - (4411948624, w) - (4411948480, y)\n",
      "[5] -> (4411938880, J) - (4411935616, N) - (4411935328, P) - (4411937392, S) - (4411933840, W) - (4411933552, Z) - (4411938592, r)\n",
      "[6] -> (4411935040, L) - (4411933264, c) - (4411932832, f) - (4411936384, k) - (4411936672, n) - (4411948528, x)\n",
      "[7] -> (4411939360, A) - (4411935808, C) - (4411937872, E) - (4411939072, I) - (4411935520, O) - (4411934032, U) - (4411933744, X) - (4411939648, u)\n"
     ]
    }
   ],
   "source": [
    "ht.delete(4411934944)\n",
    "ht.print_hash_table()"
   ]
  }
 ],
 "metadata": {
  "kernelspec": {
   "display_name": ".venv",
   "language": "python",
   "name": "python3"
  },
  "language_info": {
   "codemirror_mode": {
    "name": "ipython",
    "version": 3
   },
   "file_extension": ".py",
   "mimetype": "text/x-python",
   "name": "python",
   "nbconvert_exporter": "python",
   "pygments_lexer": "ipython3",
   "version": "3.10.10"
  },
  "orig_nbformat": 4
 },
 "nbformat": 4,
 "nbformat_minor": 2
}
