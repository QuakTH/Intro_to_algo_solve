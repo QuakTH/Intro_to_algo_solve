{
 "cells": [
  {
   "attachments": {},
   "cell_type": "markdown",
   "metadata": {},
   "source": [
    "# Heap sort"
   ]
  },
  {
   "cell_type": "code",
   "execution_count": 1,
   "metadata": {},
   "outputs": [],
   "source": [
    "%load_ext autoreload\n",
    "%autoreload 2"
   ]
  },
  {
   "attachments": {},
   "cell_type": "markdown",
   "metadata": {},
   "source": [
    "## Import Modules"
   ]
  },
  {
   "cell_type": "code",
   "execution_count": 2,
   "metadata": {},
   "outputs": [
    {
     "data": {
      "text/plain": [
       "['/Users/taehagwak/projects/Intro_to_algo_solve/lecture4',\n",
       " '/Users/taehagwak/miniconda3/envs/dev/lib/python310.zip',\n",
       " '/Users/taehagwak/miniconda3/envs/dev/lib/python3.10',\n",
       " '/Users/taehagwak/miniconda3/envs/dev/lib/python3.10/lib-dynload',\n",
       " '',\n",
       " '/Users/taehagwak/miniconda3/envs/dev/lib/python3.10/site-packages',\n",
       " '..']"
      ]
     },
     "execution_count": 2,
     "metadata": {},
     "output_type": "execute_result"
    }
   ],
   "source": [
    "# No need to add __init__.p to lecture3 (https://peps.python.org/pep-0420/)\n",
    "\n",
    "import sys\n",
    "sys.path.append('..')\n",
    "sys.path"
   ]
  },
  {
   "cell_type": "code",
   "execution_count": 9,
   "metadata": {},
   "outputs": [],
   "source": [
    "import random\n",
    "from heap import visualize_heap, check_if_max_heap, max_heapify, build_max_heap, heap_sort\n",
    "from lecture3.sort import check_if_sorted\n"
   ]
  },
  {
   "attachments": {},
   "cell_type": "markdown",
   "metadata": {},
   "source": [
    "## Test Max Heapify\n",
    "Max heapify only works on one index"
   ]
  },
  {
   "cell_type": "code",
   "execution_count": 4,
   "metadata": {},
   "outputs": [
    {
     "name": "stdout",
     "output_type": "stream",
     "text": [
      "Is max heap? False\n",
      "                 16                \n",
      "        4                10       \n",
      "   14      7       9       3    \n",
      " 2   8   1  "
     ]
    }
   ],
   "source": [
    "test = [16, 4, 10, 14, 7, 9, 3, 2, 8, 1]\n",
    "print(\"Is max heap?\", check_if_max_heap(test))\n",
    "visualize_heap(test)"
   ]
  },
  {
   "cell_type": "code",
   "execution_count": 5,
   "metadata": {},
   "outputs": [
    {
     "name": "stdout",
     "output_type": "stream",
     "text": [
      "Is max heap? True\n",
      "                 16                \n",
      "        14               10       \n",
      "   8       7       9       3    \n",
      " 2   4   1  "
     ]
    }
   ],
   "source": [
    "max_heapify(test, 1)\n",
    "print('Is max heap?', check_if_max_heap(test))\n",
    "visualize_heap(test)"
   ]
  },
  {
   "attachments": {},
   "cell_type": "markdown",
   "metadata": {},
   "source": [
    "## Test Build Max heap"
   ]
  },
  {
   "cell_type": "code",
   "execution_count": 6,
   "metadata": {},
   "outputs": [],
   "source": [
    "heap_array=list(range(30))\n",
    "random.shuffle(heap_array)"
   ]
  },
  {
   "cell_type": "code",
   "execution_count": 7,
   "metadata": {},
   "outputs": [
    {
     "name": "stdout",
     "output_type": "stream",
     "text": [
      "Before build max heap : False\n",
      "                                 20                                \n",
      "                8                                23               \n",
      "       7               21              15              2        \n",
      "   27      1       14      18      0       22      4       13   \n",
      " 9   3   12  11  16  10  24  25  19  17  26  28  5   29  6  "
     ]
    }
   ],
   "source": [
    "print('Before build max heap :', check_if_max_heap(heap_array))\n",
    "visualize_heap(heap_array)"
   ]
  },
  {
   "cell_type": "code",
   "execution_count": 8,
   "metadata": {},
   "outputs": [
    {
     "name": "stdout",
     "output_type": "stream",
     "text": [
      "After build max heap : True\n",
      "                                 29                                \n",
      "                27                               28               \n",
      "       12              25              26              23       \n",
      "   9       11      16      24      19      22      5       13   \n",
      " 7   3   1   8   14  10  21  18  0   17  15  20  2   4   6  "
     ]
    }
   ],
   "source": [
    "build_max_heap(heap_array)\n",
    "print('After build max heap :', check_if_max_heap(heap_array))\n",
    "visualize_heap(heap_array)"
   ]
  },
  {
   "attachments": {},
   "cell_type": "markdown",
   "metadata": {},
   "source": [
    "## Test heap sort"
   ]
  },
  {
   "cell_type": "code",
   "execution_count": 14,
   "metadata": {},
   "outputs": [],
   "source": [
    "for array_len in (10, 100, 1000, 10000):\n",
    "    array = [random.randint(0, 1000) for _ in range(array_len)]\n",
    "    array = heap_sort(array)\n",
    "\n",
    "    assert check_if_sorted(array), f\"The array of length {array_len} is not sorted.\"\n"
   ]
  }
 ],
 "metadata": {
  "kernelspec": {
   "display_name": "dev",
   "language": "python",
   "name": "python3"
  },
  "language_info": {
   "codemirror_mode": {
    "name": "ipython",
    "version": 3
   },
   "file_extension": ".py",
   "mimetype": "text/x-python",
   "name": "python",
   "nbconvert_exporter": "python",
   "pygments_lexer": "ipython3",
   "version": "3.10.10"
  },
  "orig_nbformat": 4
 },
 "nbformat": 4,
 "nbformat_minor": 2
}
