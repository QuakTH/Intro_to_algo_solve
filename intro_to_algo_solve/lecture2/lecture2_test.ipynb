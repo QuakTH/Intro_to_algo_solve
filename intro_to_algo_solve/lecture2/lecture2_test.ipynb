{
 "cells": [
  {
   "attachments": {},
   "cell_type": "markdown",
   "metadata": {},
   "source": [
    "# Document distance test\n",
    "#### Using dictionary"
   ]
  },
  {
   "cell_type": "code",
   "execution_count": 1,
   "metadata": {},
   "outputs": [],
   "source": [
    "%load_ext autoreload\n",
    "%autoreload 2"
   ]
  },
  {
   "attachments": {},
   "cell_type": "markdown",
   "metadata": {},
   "source": [
    "## Import modules"
   ]
  },
  {
   "cell_type": "code",
   "execution_count": 7,
   "metadata": {},
   "outputs": [],
   "source": [
    "import doc_dist_dictionary as dist_module"
   ]
  },
  {
   "attachments": {},
   "cell_type": "markdown",
   "metadata": {},
   "source": [
    "## Calculate document distance of two files\n",
    "\n",
    "The files were copied from the original MIT Lecture"
   ]
  },
  {
   "cell_type": "code",
   "execution_count": 16,
   "metadata": {},
   "outputs": [
    {
     "name": "stdout",
     "output_type": "stream",
     "text": [
      "t2.bobsey and t3.lewis : 0.5741596010646864\n",
      "t2.bobsey and t2.bobsey : 0.0\n",
      "t3.lewis and t3.lewis : 0.0\n"
     ]
    }
   ],
   "source": [
    "print(\n",
    "    \"t2.bobsey and t3.lewis :\",\n",
    "    dist_module.calculate_doc_dist(\"documents/t2.bobsey.txt\", \"documents/t3.lewis.txt\"),\n",
    ")\n",
    "print(\n",
    "    \"t2.bobsey and t2.bobsey :\",\n",
    "    dist_module.calculate_doc_dist(\n",
    "        \"documents/t2.bobsey.txt\", \"documents/t2.bobsey.txt\"\n",
    "    ),\n",
    ")\n",
    "print(\n",
    "    \"t3.lewis and t3.lewis :\",\n",
    "    dist_module.calculate_doc_dist(\"documents/t3.lewis.txt\", \"documents/t3.lewis.txt\"),\n",
    ")\n"
   ]
  }
 ],
 "metadata": {
  "kernelspec": {
   "display_name": "dev",
   "language": "python",
   "name": "python3"
  },
  "language_info": {
   "codemirror_mode": {
    "name": "ipython",
    "version": 3
   },
   "file_extension": ".py",
   "mimetype": "text/x-python",
   "name": "python",
   "nbconvert_exporter": "python",
   "pygments_lexer": "ipython3",
   "version": "3.10.10"
  },
  "orig_nbformat": 4
 },
 "nbformat": 4,
 "nbformat_minor": 2
}
