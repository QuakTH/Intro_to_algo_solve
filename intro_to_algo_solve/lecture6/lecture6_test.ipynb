{
 "cells": [
  {
   "attachments": {},
   "cell_type": "markdown",
   "metadata": {},
   "source": [
    "# AVL tree"
   ]
  },
  {
   "cell_type": "code",
   "execution_count": 44,
   "metadata": {},
   "outputs": [],
   "source": [
    "%load_ext autoreload\n",
    "%autoreload 2"
   ]
  },
  {
   "attachments": {},
   "cell_type": "markdown",
   "metadata": {},
   "source": [
    "# Import Modules"
   ]
  },
  {
   "cell_type": "code",
   "execution_count": 61,
   "metadata": {},
   "outputs": [],
   "source": [
    "import avl\n",
    "from intro_to_algo_solve.lecture5 import bst\n"
   ]
  },
  {
   "attachments": {},
   "cell_type": "markdown",
   "metadata": {},
   "source": [
    "# Create a AVL tree"
   ]
  },
  {
   "cell_type": "code",
   "execution_count": 50,
   "metadata": {},
   "outputs": [
    {
     "data": {
      "text/plain": [
       "<avl.Node at 0x1076ddf00>"
      ]
     },
     "execution_count": 50,
     "metadata": {},
     "output_type": "execute_result"
    }
   ],
   "source": [
    "tree = avl.AVL()\n",
    "\n",
    "tree.insert(10)\n",
    "tree.insert(8)\n",
    "tree.insert(2)\n",
    "tree.insert(9)\n",
    "tree.insert(55)\n",
    "tree.insert(33)\n",
    "tree.insert(60)\n",
    "tree.insert(1)\n"
   ]
  },
  {
   "cell_type": "code",
   "execution_count": 51,
   "metadata": {},
   "outputs": [
    {
     "name": "stdout",
     "output_type": "stream",
     "text": [
      "       10       \n",
      "   8        55  \n",
      "  2    9  33  60\n",
      "1               \n"
     ]
    }
   ],
   "source": [
    "print(tree)\n"
   ]
  },
  {
   "attachments": {},
   "cell_type": "markdown",
   "metadata": {},
   "source": [
    "# Test insert"
   ]
  },
  {
   "cell_type": "code",
   "execution_count": 52,
   "metadata": {},
   "outputs": [
    {
     "name": "stdout",
     "output_type": "stream",
     "text": [
      "             10             \n",
      "   8              55        \n",
      "  2    9    33        70    \n",
      "1             44  60    89  \n",
      "                          90\n"
     ]
    }
   ],
   "source": [
    "tree.insert(70)\n",
    "tree.insert(89)\n",
    "tree.insert(44)\n",
    "tree.insert(10)\n",
    "tree.insert(90)\n",
    "\n",
    "print(tree)\n"
   ]
  },
  {
   "cell_type": "code",
   "execution_count": 54,
   "metadata": {},
   "outputs": [],
   "source": [
    "tree.check_ri()\n"
   ]
  },
  {
   "attachments": {},
   "cell_type": "markdown",
   "metadata": {},
   "source": [
    "# Delete the node which makes the tree unbalanced"
   ]
  },
  {
   "cell_type": "code",
   "execution_count": 55,
   "metadata": {},
   "outputs": [
    {
     "name": "stdout",
     "output_type": "stream",
     "text": [
      "before :  60\n"
     ]
    },
    {
     "ename": "AttributeError",
     "evalue": "'NoneType' object has no attribute 'key'",
     "output_type": "error",
     "traceback": [
      "\u001b[0;31m---------------------------------------------------------------------------\u001b[0m",
      "\u001b[0;31mAttributeError\u001b[0m                            Traceback (most recent call last)",
      "Cell \u001b[0;32mIn[55], line 3\u001b[0m\n\u001b[1;32m      1\u001b[0m \u001b[39mprint\u001b[39m(\u001b[39m\"\u001b[39m\u001b[39mbefore : \u001b[39m\u001b[39m\"\u001b[39m, tree\u001b[39m.\u001b[39mfind(\u001b[39m60\u001b[39m)\u001b[39m.\u001b[39mkey)\n\u001b[1;32m      2\u001b[0m tree\u001b[39m.\u001b[39mfind(\u001b[39m60\u001b[39m)\u001b[39m.\u001b[39mdelete()\n\u001b[0;32m----> 3\u001b[0m \u001b[39mprint\u001b[39m(\u001b[39m\"\u001b[39m\u001b[39mafter : \u001b[39m\u001b[39m\"\u001b[39m, tree\u001b[39m.\u001b[39;49mfind(\u001b[39m60\u001b[39;49m)\u001b[39m.\u001b[39;49mkey \u001b[39mif\u001b[39;00m tree\u001b[39m.\u001b[39mfind(\u001b[39m90\u001b[39m) \u001b[39melse\u001b[39;00m \u001b[39m\"\u001b[39m\u001b[39mNo node found\u001b[39m\u001b[39m\"\u001b[39m)\n\u001b[1;32m      4\u001b[0m tree\u001b[39m.\u001b[39mcheck_ri()\n",
      "\u001b[0;31mAttributeError\u001b[0m: 'NoneType' object has no attribute 'key'"
     ]
    }
   ],
   "source": [
    "print(\"before : \", tree.find(60).key)\n",
    "tree.find(60).delete()\n",
    "print(\"after : \", tree.find(60).key if tree.find(60) else \"No node found\")\n",
    "tree.check_ri()\n"
   ]
  },
  {
   "cell_type": "code",
   "execution_count": 56,
   "metadata": {},
   "outputs": [
    {
     "name": "stdout",
     "output_type": "stream",
     "text": [
      "           10           \n",
      "   8            55      \n",
      "  2    9    33      89  \n",
      "1             44  70  90\n"
     ]
    }
   ],
   "source": [
    "print(tree)\n"
   ]
  },
  {
   "cell_type": "code",
   "execution_count": 59,
   "metadata": {},
   "outputs": [
    {
     "name": "stdout",
     "output_type": "stream",
     "text": [
      "             10             \n",
      "   8              55        \n",
      "  2    9    33        89    \n",
      "1             44    70    90\n",
      "                  66        \n",
      "------------------------------------------\n",
      "           10           \n",
      "   8            70      \n",
      "  2    9    55      89  \n",
      "1         33  66      90\n"
     ]
    }
   ],
   "source": [
    "tree.insert(66)\n",
    "print(tree)\n",
    "print(\"------------------------------------------\")\n",
    "tree.find(44).delete()\n",
    "print(tree)"
   ]
  },
  {
   "cell_type": "code",
   "execution_count": 60,
   "metadata": {},
   "outputs": [],
   "source": [
    "tree.check_ri()\n"
   ]
  },
  {
   "attachments": {},
   "cell_type": "markdown",
   "metadata": {},
   "source": [
    "# Difference between BST and AVL tree"
   ]
  },
  {
   "cell_type": "code",
   "execution_count": 62,
   "metadata": {},
   "outputs": [
    {
     "data": {
      "text/plain": [
       "<avl.Node at 0x1076dd9f0>"
      ]
     },
     "execution_count": 62,
     "metadata": {},
     "output_type": "execute_result"
    }
   ],
   "source": [
    "bst_tree = bst.BST()\n",
    "bst_tree.insert(100)\n",
    "bst_tree.insert(90)\n",
    "bst_tree.insert(80)\n",
    "bst_tree.insert(70)\n",
    "bst_tree.insert(60)\n",
    "bst_tree.insert(50)\n",
    "\n",
    "avl_tree = avl.AVL()\n",
    "avl_tree.insert(100)\n",
    "avl_tree.insert(90)\n",
    "avl_tree.insert(80)\n",
    "avl_tree.insert(70)\n",
    "avl_tree.insert(60)\n",
    "avl_tree.insert(50)\n"
   ]
  },
  {
   "cell_type": "code",
   "execution_count": 63,
   "metadata": {},
   "outputs": [
    {
     "name": "stdout",
     "output_type": "stream",
     "text": [
      "            100            \n",
      "          90               \n",
      "        80                 \n",
      "     70                    \n",
      "   60                      \n",
      "50                         \n"
     ]
    }
   ],
   "source": [
    "print(bst_tree)\n"
   ]
  },
  {
   "cell_type": "code",
   "execution_count": 64,
   "metadata": {},
   "outputs": [
    {
     "name": "stdout",
     "output_type": "stream",
     "text": [
      "       70       \n",
      "   60       90  \n",
      "50       80  100\n"
     ]
    }
   ],
   "source": [
    "print(avl_tree)\n"
   ]
  },
  {
   "cell_type": "code",
   "execution_count": null,
   "metadata": {},
   "outputs": [],
   "source": []
  }
 ],
 "metadata": {
  "kernelspec": {
   "display_name": ".venv",
   "language": "python",
   "name": "python3"
  },
  "language_info": {
   "codemirror_mode": {
    "name": "ipython",
    "version": 3
   },
   "file_extension": ".py",
   "mimetype": "text/x-python",
   "name": "python",
   "nbconvert_exporter": "python",
   "pygments_lexer": "ipython3",
   "version": "3.10.10"
  },
  "orig_nbformat": 4
 },
 "nbformat": 4,
 "nbformat_minor": 2
}
