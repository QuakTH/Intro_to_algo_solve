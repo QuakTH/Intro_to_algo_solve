{
 "cells": [
  {
   "attachments": {},
   "cell_type": "markdown",
   "metadata": {},
   "source": [
    "# Sub string search using rolling hash"
   ]
  },
  {
   "cell_type": "code",
   "execution_count": 1,
   "metadata": {},
   "outputs": [],
   "source": [
    "%load_ext autoreload\n",
    "%autoreload 2"
   ]
  },
  {
   "attachments": {},
   "cell_type": "markdown",
   "metadata": {},
   "source": [
    "## Import modules"
   ]
  },
  {
   "cell_type": "code",
   "execution_count": 56,
   "metadata": {},
   "outputs": [],
   "source": [
    "from intro_to_algo_solve.lecture8.hash_table import generate_large_prime\n",
    "from intro_to_algo_solve.lecture9 import find_substring\n",
    "from intro_to_algo_solve.lecture9.rolling_hash import RollingHash"
   ]
  },
  {
   "attachments": {},
   "cell_type": "markdown",
   "metadata": {},
   "source": [
    "## Test Rolling Hash"
   ]
  },
  {
   "cell_type": "code",
   "execution_count": 53,
   "metadata": {},
   "outputs": [],
   "source": [
    "rh = RollingHash(generate_large_prime(64))"
   ]
  },
  {
   "cell_type": "code",
   "execution_count": 54,
   "metadata": {},
   "outputs": [
    {
     "name": "stdout",
     "output_type": "stream",
     "text": [
      "Append a string\n",
      "string : \"T\" hash : 84\n",
      "string : \"Th\" hash : 93585512\n",
      "string : \"Thi\" hash : 104264741945449\n",
      "string : \"This\" hash : 4822975879734177893\n",
      "string : \"This \" hash : 7096935253842904491\n",
      "string : \"This i\" hash : 8443927210164979298\n",
      "string : \"This is\" hash : 6086298081851898806\n",
      "string : \"This is \" hash : 795572787216104433\n",
      "string : \"This is a\" hash : 4707994662234800185\n",
      "string : \"This is a \" hash : 1380500119426124950\n",
      "string : \"This is a t\" hash : 8446918162525057078\n",
      "string : \"This is a te\" hash : 9287447344869964703\n",
      "string : \"This is a tes\" hash : 8757759810891670660\n",
      "string : \"This is a test\" hash : 10930574022999108398\n",
      "string : \"This is a test.\" hash : 938628576412082862\n",
      "\n",
      "Pop the same string\n",
      "string : \"his is a test.\" hash : 6141889158790926029\n",
      "string : \"is is a test.\" hash : 5709311126814345145\n",
      "string : \"s is a test.\" hash : 4591182995048117032\n",
      "string : \" is a test.\" hash : 5944310596061636956\n",
      "string : \"is a test.\" hash : 9219105875887377605\n",
      "string : \"s a test.\" hash : 7083547452790473231\n",
      "string : \" a test.\" hash : 1471449331425139916\n",
      "string : \"a test.\" hash : 7087886046503923687\n",
      "string : \" test.\" hash : 9705348365174963065\n",
      "string : \"test.\" hash : 700920812567587443\n",
      "string : \"est.\" hash : 6064136203579387114\n",
      "string : \"st.\" hash : 142743367319598\n",
      "string : \"t.\" hash : 129237038\n",
      "string : \".\" hash : 46\n",
      "string : \"\" hash : 0\n",
      "\n",
      "Append the same string again\n",
      "string : \"T\" hash : 84\n",
      "string : \"Th\" hash : 93585512\n",
      "string : \"Thi\" hash : 104264741945449\n",
      "string : \"This\" hash : 4822975879734177893\n",
      "string : \"This \" hash : 7096935253842904491\n",
      "string : \"This i\" hash : 8443927210164979298\n",
      "string : \"This is\" hash : 6086298081851898806\n",
      "string : \"This is \" hash : 795572787216104433\n",
      "string : \"This is a\" hash : 4707994662234800185\n",
      "string : \"This is a \" hash : 1380500119426124950\n",
      "string : \"This is a t\" hash : 8446918162525057078\n",
      "string : \"This is a te\" hash : 9287447344869964703\n",
      "string : \"This is a tes\" hash : 8757759810891670660\n",
      "string : \"This is a test\" hash : 10930574022999108398\n",
      "string : \"This is a test.\" hash : 938628576412082862\n"
     ]
    }
   ],
   "source": [
    "print(\"Append a string\")\n",
    "for char in \"This is a test.\":\n",
    "    rh.append(char)\n",
    "    print(\"string :\", f'\"{rh.string}\"', \"hash :\", rh.hash)\n",
    "\n",
    "print()\n",
    "print(\"Pop the same string\")\n",
    "for char in \"This is a test.\":\n",
    "    rh.pop(char)\n",
    "    print(\"string :\", f'\"{rh.string}\"', \"hash :\", rh.hash)\n",
    "\n",
    "print()\n",
    "print(\"Append the same string again\")\n",
    "for char in \"This is a test.\":\n",
    "    rh.append(char)\n",
    "    print(\"string :\", f'\"{rh.string}\"', \"hash :\", rh.hash)"
   ]
  },
  {
   "attachments": {},
   "cell_type": "markdown",
   "metadata": {},
   "source": [
    "## Test find_substring"
   ]
  },
  {
   "attachments": {},
   "cell_type": "markdown",
   "metadata": {},
   "source": [
    "### English"
   ]
  },
  {
   "cell_type": "code",
   "execution_count": 59,
   "metadata": {},
   "outputs": [
    {
     "data": {
      "text/plain": [
       "['rabbit',\n",
       " 'The rabbit',\n",
       " 'Dummy text, Dummy text, Dummy text, Dummy text, Dummy textrabbit Dummy text Dummy text']"
      ]
     },
     "execution_count": 59,
     "metadata": {},
     "output_type": "execute_result"
    }
   ],
   "source": [
    "sub_string = \"rabbit\"\n",
    "\n",
    "texts = [\n",
    "    \"rab\",\n",
    "    \"rabbit\",\n",
    "    \"The fox and the hound\",\n",
    "    \"The rabbat\",\n",
    "    \"The rabbit\",\n",
    "    \"Dummy text, Dummy text, Dummy text, Dummy text, Dummy textrabbit Dummy text Dummy text\",\n",
    "]\n",
    "\n",
    "find_substring.search(texts, sub_string)"
   ]
  },
  {
   "attachments": {},
   "cell_type": "markdown",
   "metadata": {},
   "source": [
    "### Korean"
   ]
  },
  {
   "cell_type": "code",
   "execution_count": 60,
   "metadata": {},
   "outputs": [
    {
     "data": {
      "text/plain": [
       "['코딩', '내가 좋아하는 것은 코딩.', '코딩은 어려워', '텍스트 텍스트 텍스트 텍스트 텍스트 코딩텍스트 텍스트 텍스트 텍스트']"
      ]
     },
     "execution_count": 60,
     "metadata": {},
     "output_type": "execute_result"
    }
   ],
   "source": [
    "sub_string = \"코딩\"\n",
    "\n",
    "texts = [\n",
    "    \"코뎅\",\n",
    "    \"코딩\",\n",
    "    \"내가 좋아하는 것은 코딩.\",\n",
    "    \"코딩은 어려워\",\n",
    "    \"코코팝 코코비 하하호\",\n",
    "    \"텍스트 텍스트 텍스트 텍스트 텍스트 코딩텍스트 텍스트 텍스트 텍스트\",\n",
    "]\n",
    "\n",
    "find_substring.search(texts, sub_string)"
   ]
  },
  {
   "cell_type": "code",
   "execution_count": null,
   "metadata": {},
   "outputs": [],
   "source": []
  }
 ],
 "metadata": {
  "kernelspec": {
   "display_name": ".venv",
   "language": "python",
   "name": "python3"
  },
  "language_info": {
   "codemirror_mode": {
    "name": "ipython",
    "version": 3
   },
   "file_extension": ".py",
   "mimetype": "text/x-python",
   "name": "python",
   "nbconvert_exporter": "python",
   "pygments_lexer": "ipython3",
   "version": "3.10.10"
  },
  "orig_nbformat": 4
 },
 "nbformat": 4,
 "nbformat_minor": 2
}
