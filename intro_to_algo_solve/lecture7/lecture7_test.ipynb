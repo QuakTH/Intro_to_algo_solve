{
 "cells": [
  {
   "attachments": {},
   "cell_type": "markdown",
   "metadata": {},
   "source": [
    "# Counting sort and Radix sort"
   ]
  },
  {
   "cell_type": "code",
   "execution_count": 1,
   "metadata": {},
   "outputs": [],
   "source": [
    "%load_ext autoreload\n",
    "%autoreload 2"
   ]
  },
  {
   "attachments": {},
   "cell_type": "markdown",
   "metadata": {},
   "source": [
    "# Import Modules"
   ]
  },
  {
   "cell_type": "code",
   "execution_count": 19,
   "metadata": {},
   "outputs": [],
   "source": [
    "import string\n",
    "import random\n",
    "from intro_to_algo_solve.lecture7.counting_sort import CountingSort\n",
    "from intro_to_algo_solve.lecture7.radix_sort import RadixSort"
   ]
  },
  {
   "attachments": {},
   "cell_type": "markdown",
   "metadata": {},
   "source": [
    "## Counting sort"
   ]
  },
  {
   "cell_type": "code",
   "execution_count": 20,
   "metadata": {},
   "outputs": [],
   "source": [
    "c_sort = CountingSort(10)"
   ]
  },
  {
   "attachments": {},
   "cell_type": "markdown",
   "metadata": {},
   "source": [
    "### Insert multiple values"
   ]
  },
  {
   "cell_type": "code",
   "execution_count": 21,
   "metadata": {},
   "outputs": [],
   "source": [
    "random.seed(12314)\n",
    "for _ in range(25):\n",
    "    c_sort.insert_node(random.choice(string.ascii_uppercase))"
   ]
  },
  {
   "attachments": {},
   "cell_type": "markdown",
   "metadata": {},
   "source": [
    "#### Before sorting"
   ]
  },
  {
   "cell_type": "code",
   "execution_count": 22,
   "metadata": {},
   "outputs": [
    {
     "data": {
      "text/plain": [
       "[(2, 'Z'),\n",
       " (4, 'O'),\n",
       " (7, 'A'),\n",
       " (3, 'V'),\n",
       " (7, 'Q'),\n",
       " (7, 'H'),\n",
       " (0, 'Q'),\n",
       " (4, 'C'),\n",
       " (6, 'P'),\n",
       " (3, 'X'),\n",
       " (3, 'D'),\n",
       " (6, 'K'),\n",
       " (6, 'J'),\n",
       " (3, 'V'),\n",
       " (0, 'H'),\n",
       " (2, 'Z'),\n",
       " (0, 'U'),\n",
       " (10, 'Q'),\n",
       " (5, 'C'),\n",
       " (5, 'Y'),\n",
       " (3, 'B'),\n",
       " (3, 'Z'),\n",
       " (1, 'I'),\n",
       " (1, 'O'),\n",
       " (0, 'R')]"
      ]
     },
     "execution_count": 22,
     "metadata": {},
     "output_type": "execute_result"
    }
   ],
   "source": [
    "c_sort.items"
   ]
  },
  {
   "cell_type": "code",
   "execution_count": 23,
   "metadata": {},
   "outputs": [],
   "source": [
    "c_sort.sort()"
   ]
  },
  {
   "attachments": {},
   "cell_type": "markdown",
   "metadata": {},
   "source": [
    "#### After sorting"
   ]
  },
  {
   "cell_type": "code",
   "execution_count": 24,
   "metadata": {},
   "outputs": [
    {
     "data": {
      "text/plain": [
       "[(0, 'Q'),\n",
       " (0, 'H'),\n",
       " (0, 'U'),\n",
       " (0, 'R'),\n",
       " (1, 'I'),\n",
       " (1, 'O'),\n",
       " (2, 'Z'),\n",
       " (2, 'Z'),\n",
       " (3, 'V'),\n",
       " (3, 'X'),\n",
       " (3, 'D'),\n",
       " (3, 'V'),\n",
       " (3, 'B'),\n",
       " (3, 'Z'),\n",
       " (4, 'O'),\n",
       " (4, 'C'),\n",
       " (5, 'C'),\n",
       " (5, 'Y'),\n",
       " (6, 'P'),\n",
       " (6, 'K'),\n",
       " (6, 'J'),\n",
       " (7, 'A'),\n",
       " (7, 'Q'),\n",
       " (7, 'H'),\n",
       " (10, 'Q')]"
      ]
     },
     "execution_count": 24,
     "metadata": {},
     "output_type": "execute_result"
    }
   ],
   "source": [
    "c_sort.items"
   ]
  },
  {
   "attachments": {},
   "cell_type": "markdown",
   "metadata": {},
   "source": [
    "## Radix sort"
   ]
  },
  {
   "cell_type": "code",
   "execution_count": 25,
   "metadata": {},
   "outputs": [],
   "source": [
    "r_sort=RadixSort(100, 10)"
   ]
  },
  {
   "cell_type": "code",
   "execution_count": 26,
   "metadata": {},
   "outputs": [],
   "source": [
    "random.seed(12314)\n",
    "for _ in range(50):\n",
    "    r_sort.insert_node(random.choice(string.ascii_uppercase))"
   ]
  },
  {
   "attachments": {},
   "cell_type": "markdown",
   "metadata": {},
   "source": [
    "### Before"
   ]
  },
  {
   "cell_type": "code",
   "execution_count": 27,
   "metadata": {},
   "outputs": [
    {
     "data": {
      "text/plain": [
       "[(19, 'Z'),\n",
       " (32, 'O'),\n",
       " (63, 'A'),\n",
       " (29, 'V'),\n",
       " (57, 'Q'),\n",
       " (61, 'H'),\n",
       " (7, 'Q'),\n",
       " (38, 'C'),\n",
       " (49, 'P'),\n",
       " (29, 'X'),\n",
       " (25, 'D'),\n",
       " (54, 'K'),\n",
       " (53, 'J'),\n",
       " (29, 'V'),\n",
       " (1, 'H'),\n",
       " (20, 'Z'),\n",
       " (7, 'U'),\n",
       " (85, 'Q'),\n",
       " (47, 'C'),\n",
       " (41, 'Y'),\n",
       " (27, 'B'),\n",
       " (31, 'Z'),\n",
       " (13, 'I'),\n",
       " (14, 'O'),\n",
       " (3, 'R'),\n",
       " (83, 'V'),\n",
       " (32, 'A'),\n",
       " (17, 'F'),\n",
       " (18, 'I'),\n",
       " (99, 'S'),\n",
       " (67, 'L'),\n",
       " (23, 'U'),\n",
       " (17, 'W'),\n",
       " (49, 'A'),\n",
       " (53, 'R'),\n",
       " (49, 'H'),\n",
       " (55, 'F'),\n",
       " (12, 'D'),\n",
       " (68, 'D'),\n",
       " (73, 'Y'),\n",
       " (20, 'M'),\n",
       " (84, 'O'),\n",
       " (89, 'Z'),\n",
       " (27, 'C'),\n",
       " (0, 'W'),\n",
       " (20, 'P'),\n",
       " (26, 'G'),\n",
       " (86, 'R'),\n",
       " (26, 'R'),\n",
       " (76, 'C')]"
      ]
     },
     "execution_count": 27,
     "metadata": {},
     "output_type": "execute_result"
    }
   ],
   "source": [
    "r_sort.items"
   ]
  }
 ],
 "metadata": {
  "kernelspec": {
   "display_name": ".venv",
   "language": "python",
   "name": "python3"
  },
  "language_info": {
   "codemirror_mode": {
    "name": "ipython",
    "version": 3
   },
   "file_extension": ".py",
   "mimetype": "text/x-python",
   "name": "python",
   "nbconvert_exporter": "python",
   "pygments_lexer": "ipython3",
   "version": "3.10.10"
  },
  "orig_nbformat": 4
 },
 "nbformat": 4,
 "nbformat_minor": 2
}
