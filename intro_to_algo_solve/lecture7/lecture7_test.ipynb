{
 "cells": [
  {
   "attachments": {},
   "cell_type": "markdown",
   "metadata": {},
   "source": [
    "# Counting sort and Radix sort"
   ]
  },
  {
   "cell_type": "code",
   "execution_count": 1,
   "metadata": {},
   "outputs": [],
   "source": [
    "%load_ext autoreload\n",
    "%autoreload 2"
   ]
  },
  {
   "attachments": {},
   "cell_type": "markdown",
   "metadata": {},
   "source": [
    "# Import Modules"
   ]
  },
  {
   "cell_type": "code",
   "execution_count": 7,
   "metadata": {},
   "outputs": [],
   "source": [
    "import string\n",
    "import random\n",
    "from intro_to_algo_solve.lecture7.counting_sort import CountingSort"
   ]
  },
  {
   "attachments": {},
   "cell_type": "markdown",
   "metadata": {},
   "source": [
    "## Counting sort"
   ]
  },
  {
   "cell_type": "code",
   "execution_count": 22,
   "metadata": {},
   "outputs": [],
   "source": [
    "c_sort = CountingSort(10)"
   ]
  },
  {
   "attachments": {},
   "cell_type": "markdown",
   "metadata": {},
   "source": [
    "### Insert multiple values"
   ]
  },
  {
   "cell_type": "code",
   "execution_count": 23,
   "metadata": {},
   "outputs": [],
   "source": [
    "random.seed(12314)\n",
    "for _ in range(25):\n",
    "    c_sort.insert_node(random.choice(string.ascii_uppercase))"
   ]
  },
  {
   "attachments": {},
   "cell_type": "markdown",
   "metadata": {},
   "source": [
    "#### Before sorting"
   ]
  },
  {
   "cell_type": "code",
   "execution_count": 24,
   "metadata": {},
   "outputs": [
    {
     "data": {
      "text/plain": [
       "[(2, 'Z'),\n",
       " (4, 'O'),\n",
       " (7, 'A'),\n",
       " (3, 'V'),\n",
       " (7, 'Q'),\n",
       " (7, 'H'),\n",
       " (0, 'Q'),\n",
       " (4, 'C'),\n",
       " (6, 'P'),\n",
       " (3, 'X'),\n",
       " (3, 'D'),\n",
       " (6, 'K'),\n",
       " (6, 'J'),\n",
       " (3, 'V'),\n",
       " (0, 'H'),\n",
       " (2, 'Z'),\n",
       " (0, 'U'),\n",
       " (10, 'Q'),\n",
       " (5, 'C'),\n",
       " (5, 'Y'),\n",
       " (3, 'B'),\n",
       " (3, 'Z'),\n",
       " (1, 'I'),\n",
       " (1, 'O'),\n",
       " (0, 'R')]"
      ]
     },
     "execution_count": 24,
     "metadata": {},
     "output_type": "execute_result"
    }
   ],
   "source": [
    "c_sort.items"
   ]
  },
  {
   "cell_type": "code",
   "execution_count": 25,
   "metadata": {},
   "outputs": [],
   "source": [
    "c_sort.sort()"
   ]
  },
  {
   "attachments": {},
   "cell_type": "markdown",
   "metadata": {},
   "source": [
    "#### After sorting"
   ]
  },
  {
   "cell_type": "code",
   "execution_count": 26,
   "metadata": {},
   "outputs": [
    {
     "data": {
      "text/plain": [
       "[(0, 'Q'),\n",
       " (0, 'H'),\n",
       " (0, 'U'),\n",
       " (0, 'R'),\n",
       " (1, 'I'),\n",
       " (1, 'O'),\n",
       " (2, 'Z'),\n",
       " (2, 'Z'),\n",
       " (3, 'V'),\n",
       " (3, 'X'),\n",
       " (3, 'D'),\n",
       " (3, 'V'),\n",
       " (3, 'B'),\n",
       " (3, 'Z'),\n",
       " (4, 'O'),\n",
       " (4, 'C'),\n",
       " (5, 'C'),\n",
       " (5, 'Y'),\n",
       " (6, 'P'),\n",
       " (6, 'K'),\n",
       " (6, 'J'),\n",
       " (7, 'A'),\n",
       " (7, 'Q'),\n",
       " (7, 'H'),\n",
       " (10, 'Q')]"
      ]
     },
     "execution_count": 26,
     "metadata": {},
     "output_type": "execute_result"
    }
   ],
   "source": [
    "c_sort.items"
   ]
  }
 ],
 "metadata": {
  "kernelspec": {
   "display_name": ".venv",
   "language": "python",
   "name": "python3"
  },
  "language_info": {
   "codemirror_mode": {
    "name": "ipython",
    "version": 3
   },
   "file_extension": ".py",
   "mimetype": "text/x-python",
   "name": "python",
   "nbconvert_exporter": "python",
   "pygments_lexer": "ipython3",
   "version": "3.10.10"
  },
  "orig_nbformat": 4
 },
 "nbformat": 4,
 "nbformat_minor": 2
}
